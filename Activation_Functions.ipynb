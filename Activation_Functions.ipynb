{
  "nbformat": 4,
  "nbformat_minor": 0,
  "metadata": {
    "colab": {
      "provenance": [],
      "authorship_tag": "ABX9TyORqGHKL7mc/XTeRI1C0j5N",
      "include_colab_link": true
    },
    "kernelspec": {
      "name": "python3",
      "display_name": "Python 3"
    },
    "language_info": {
      "name": "python"
    }
  },
  "cells": [
    {
      "cell_type": "markdown",
      "metadata": {
        "id": "view-in-github",
        "colab_type": "text"
      },
      "source": [
        "<a href=\"https://colab.research.google.com/github/behrangEhi/ML-DL-Projects/blob/main/Activation_Functions.ipynb\" target=\"_parent\"><img src=\"https://colab.research.google.com/assets/colab-badge.svg\" alt=\"Open In Colab\"/></a>"
      ]
    },
    {
      "cell_type": "code",
      "execution_count": null,
      "metadata": {
        "id": "stBzcqyjoaLG"
      },
      "outputs": [],
      "source": [
        "import  numpy as np\n",
        "import matplotlib.pyplot as plt\n",
        "\n",
        "# Sigmoid Activation Function\n",
        "def sigmoid(x):\n",
        "  return 1/(1 + np.exp(-x))\n",
        "\n",
        "# Derivative of sigmoid\n",
        "def der_sigmoid(x):\n",
        "  return sigmoid(x) * (1 - sigmoid(x))\n",
        "\n",
        "# Generative data to plot\n",
        "x_data = np.linspace(-10, 10, 100)\n",
        "y_data = sigmoid(x_data)\n",
        "dy_data = der_sigmoid(x_data)\n",
        "\n",
        "# Plotting\n",
        "plt.plot(x_data, y_data, x_data, dy_data)\n",
        "plt.title('Sigmoid Activation Function & Derivative')\n",
        "plt.legend(['sigmoid', 'der_sigmoid'])\n",
        "plt.grid()\n",
        "plt.show()"
      ]
    }
  ]
}