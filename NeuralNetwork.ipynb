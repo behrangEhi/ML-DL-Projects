{
  "nbformat": 4,
  "nbformat_minor": 0,
  "metadata": {
    "colab": {
      "provenance": [],
      "toc_visible": true,
      "include_colab_link": true
    },
    "kernelspec": {
      "name": "python3",
      "display_name": "Python 3"
    },
    "language_info": {
      "name": "python"
    },
    "accelerator": "GPU"
  },
  "cells": [
    {
      "cell_type": "markdown",
      "metadata": {
        "id": "view-in-github",
        "colab_type": "text"
      },
      "source": [
        "<a href=\"https://colab.research.google.com/github/behrangEhi/ML-DL-Projects/blob/main/NeuralNetwork.ipynb\" target=\"_parent\"><img src=\"https://colab.research.google.com/assets/colab-badge.svg\" alt=\"Open In Colab\"/></a>"
      ]
    },
    {
      "cell_type": "markdown",
      "source": [
        "# Neural network"
      ],
      "metadata": {
        "id": "M16h0AhXBnxb"
      }
    },
    {
      "cell_type": "code",
      "source": [
        "import numpy as np\n",
        "from scipy.special import expit, logit\n",
        "import matplotlib.pyplot as plt\n",
        "import pandas as pd\n",
        "\n",
        "\n",
        "class NeuralNetwork:\n",
        "    def __init__(self, input_nodes, hidden_nodes, output_nodes, learning_rate):\n",
        "        self.input_nodes = input_nodes\n",
        "        self.hidden_nodes = hidden_nodes\n",
        "        self.output_nodes = output_nodes\n",
        "        self.learning_rate = learning_rate\n",
        "        self.activation_function = expit\n",
        "        self.inverse_activation_function = logit\n",
        "        self.w_i_h = np.random.normal(0, pow(self.input_nodes, -0.5), (self.hidden_nodes, self.input_nodes))\n",
        "        self.w_h_o = np.random.normal(0, pow(self.hidden_nodes, -0.5), (self.output_nodes, self.hidden_nodes))\n",
        "\n",
        "    def train(self, input_list, targets_list):\n",
        "        inputs = np.array(input_list, ndmin=2).T\n",
        "        x_hidden = np.dot(self.w_i_h, inputs)\n",
        "        o_hidden = self.activation_function(x_hidden)\n",
        "        x_output = np.dot(self.w_h_o, o_hidden)\n",
        "        o_output = self.activation_function(x_output)\n",
        "        targets = np.array(targets_list, ndmin=2).T\n",
        "        output_errors = targets - o_output\n",
        "        hidden_errors = np.dot(self.w_h_o.T, output_errors)\n",
        "        self.w_h_o += self.learning_rate * np.dot(output_errors * o_output * (1-o_output), o_hidden.T)\n",
        "        self.w_i_h += self.learning_rate * np.dot(hidden_errors * o_hidden * (1-o_hidden), inputs.T)\n",
        "\n",
        "    def query(self, input_list):\n",
        "        inputs = np.array(input_list, ndmin=2).T\n",
        "        x_hidden = np.dot(self.w_i_h, inputs)\n",
        "        o_hidden = self.activation_function(x_hidden)\n",
        "        x_output = np.dot(self.w_h_o, o_hidden)\n",
        "        o_output = self.activation_function(x_output)\n",
        "        return o_output\n",
        "\n",
        "train_list = pd.read_csv('mnist_train.csv')\n",
        "test_list = pd.read_csv('mnist_test.csv')\n",
        "\n",
        "input_nodes = 784\n",
        "hidden_nodes = 150\n",
        "output_nodes = 10\n",
        "learning_rate = 0.05\n",
        "epochs = 6\n",
        "\n",
        "nn = NeuralNetwork(input_nodes=input_nodes, hidden_nodes=hidden_nodes, output_nodes=output_nodes, learning_rate=learning_rate)\n",
        "\n",
        "for e in range(epochs):\n",
        "    for _, row in train_list.iterrows():\n",
        "        inputs = (np.asfarray(row[1:]) / (255.0 * 0.98)) + 0.01\n",
        "        targets = np.zeros(output_nodes) + 0.01\n",
        "        targets[int(row[0])] = 0.99\n",
        "        nn.train(inputs, targets)"
      ],
      "metadata": {
        "id": "He5I61GYBx20"
      },
      "execution_count": null,
      "outputs": []
    },
    {
      "cell_type": "markdown",
      "source": [
        "# Test the neural network"
      ],
      "metadata": {
        "id": "sGNMjp2CCQqZ"
      }
    },
    {
      "cell_type": "code",
      "source": [
        "test_row_data = test_list.iloc[8].values\n",
        "print(\"Target number is:\", test_row_data[0])\n",
        "image_data = np.asfarray(test_row_data[1:]).reshape((28, 28))\n",
        "image = plt.imshow(image_data, cmap='Greys')\n",
        "result = nn.query((np.asfarray(test_row_data[1:]) / (255.0 * 0.98)) + 0.01)\n",
        "result = np.nan_to_num(result)\n",
        "print(result)"
      ],
      "metadata": {
        "colab": {
          "base_uri": "https://localhost:8080/",
          "height": 621
        },
        "id": "tzYr-9xyCVyh",
        "outputId": "af686635-4290-48f6-a154-9114ddb41fc2"
      },
      "execution_count": null,
      "outputs": [
        {
          "output_type": "stream",
          "name": "stdout",
          "text": [
            "Target number is: 9\n",
            "[[0.]\n",
            " [0.]\n",
            " [0.]\n",
            " [0.]\n",
            " [0.]\n",
            " [0.]\n",
            " [0.]\n",
            " [0.]\n",
            " [0.]\n",
            " [0.]]\n"
          ]
        },
        {
          "output_type": "display_data",
          "data": {
            "text/plain": [
              "<Figure size 640x480 with 1 Axes>"
            ],
            "image/png": "[encoded data removed]"
          },
          "metadata": {}
        }
      ]
    },
    {
      "cell_type": "markdown",
      "source": [
        "# Evaluate the neural network"
      ],
      "metadata": {
        "id": "XBiK17EfCdtQ"
      }
    },
    {
      "cell_type": "code",
      "source": [
        "score_card = []\n",
        "for _, row in test_list.iterrows():\n",
        "  target_number = int(row[0])\n",
        "  inputs = (np.asfarray(row[1:]) / 255 * 0.98) + 0.01\n",
        "  outputs = nn.query(inputs)\n",
        "  predicted_number = np.argmax(outputs)\n",
        "  if target_number == predicted_number:\n",
        "    score_card.append(1)\n",
        "  else:\n",
        "    score_card.append(0)\n",
        "\n",
        "score_card_array = np.asarray(score_card)\n",
        "print(\"\\nNet Performance:\", score_card_array.sum() / score_card_array.size)"
      ],
      "metadata": {
        "colab": {
          "base_uri": "https://localhost:8080/"
        },
        "id": "06bcBgz3CfWZ",
        "outputId": "2520823d-9bb1-4224-e306-7ec74dbebc3c"
      },
      "execution_count": null,
      "outputs": [
        {
          "output_type": "stream",
          "name": "stdout",
          "text": [
            "\n",
            "Net Performance: 0.9735\n"
          ]
        }
      ]
    }
  ]
}